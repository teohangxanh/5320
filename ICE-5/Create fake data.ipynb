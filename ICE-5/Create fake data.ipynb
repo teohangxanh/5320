{
 "cells": [
  {
   "cell_type": "code",
   "execution_count": 11,
   "metadata": {},
   "outputs": [
    {
     "name": "stdout",
     "output_type": "stream",
     "text": [
      "None\n"
     ]
    }
   ],
   "source": [
    "from faker import Faker\n",
    "import pandas as pd\n",
    "\n",
    "rows = 50\n",
    "\n",
    "\n",
    "def create_fake_csv(rows, name):\n",
    "    fake = Faker()\n",
    "    data = [('Name', 'Adress', 'Email', 'Zipcode')]\n",
    "    for i in range(rows):\n",
    "        data.append(\n",
    "            [fake.name(),\n",
    "             fake.address(),\n",
    "             fake.email(),\n",
    "             fake.zipcode()])\n",
    "    data = pd.DataFrame(data)\n",
    "    data.to_csv(name, header=False, index=False)\n",
    "\n",
    "\n",
    "print(create_fake_csv(rows, 'fake_data.csv'))\n"
   ]
  },
  {
   "cell_type": "code",
   "execution_count": null,
   "metadata": {},
   "outputs": [],
   "source": []
  }
 ],
 "metadata": {
  "interpreter": {
   "hash": "26d6d95e799f68a0680bea77b17a4e3218da601be7d02863e2950dbe63a5be85"
  },
  "kernelspec": {
   "display_name": "Python 3.9.7 ('base')",
   "language": "python",
   "name": "python3"
  },
  "language_info": {
   "codemirror_mode": {
    "name": "ipython",
    "version": 3
   },
   "file_extension": ".py",
   "mimetype": "text/x-python",
   "name": "python",
   "nbconvert_exporter": "python",
   "pygments_lexer": "ipython3",
   "version": "3.9.7"
  },
  "orig_nbformat": 4
 },
 "nbformat": 4,
 "nbformat_minor": 2
}
