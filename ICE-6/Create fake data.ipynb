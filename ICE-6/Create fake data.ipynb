{
 "cells": [
  {
   "cell_type": "code",
   "execution_count": 3,
   "metadata": {},
   "outputs": [
    {
     "ename": "SyntaxError",
     "evalue": "invalid syntax (<ipython-input-3-8cffa8a7524d>, line 15)",
     "output_type": "error",
     "traceback": [
      "\u001b[1;36m  File \u001b[1;32m\"<ipython-input-3-8cffa8a7524d>\"\u001b[1;36m, line \u001b[1;32m15\u001b[0m\n\u001b[1;33m    data = pd.DataFrame(data)\u001b[0m\n\u001b[1;37m    ^\u001b[0m\n\u001b[1;31mSyntaxError\u001b[0m\u001b[1;31m:\u001b[0m invalid syntax\n"
     ]
    }
   ],
   "source": [
    "from faker import Faker\n",
    "import pandas as pd\n",
    "import numpy as np\n",
    "\n",
    "\n",
    "def create_fake_csv(rows, name):\n",
    "    fake = Faker()\n",
    "    data = [('Name', '2020', '2021', '2022')]\n",
    "    for i in range(rows):\n",
    "        data.append(\n",
    "            [fake.name(),\n",
    "            np.random.randint(100, 300),\n",
    "            np.random.randint(100, 250),\n",
    "            np.random.randint(100, 200)])\n",
    "    data = pd.DataFrame(data)\n",
    "    data.to_csv(name, header=False, index=False)\n",
    "\n",
    "\n",
    "rows = 10\n",
    "print(create_fake_csv(rows, 'fake_data.csv'))"
   ]
  }
 ],
 "metadata": {
  "interpreter": {
   "hash": "26d6d95e799f68a0680bea77b17a4e3218da601be7d02863e2950dbe63a5be85"
  },
  "kernelspec": {
   "display_name": "Python 3.9.7 ('base')",
   "language": "python",
   "name": "python3"
  },
  "language_info": {
   "codemirror_mode": {
    "name": "ipython",
    "version": 3
   },
   "file_extension": ".py",
   "mimetype": "text/x-python",
   "name": "python",
   "nbconvert_exporter": "python",
   "pygments_lexer": "ipython3",
   "version": "3.8.8"
  },
  "orig_nbformat": 4
 },
 "nbformat": 4,
 "nbformat_minor": 2
}
