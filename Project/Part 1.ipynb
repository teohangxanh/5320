{
 "cells": [
  {
   "cell_type": "markdown",
   "metadata": {},
   "source": [
    "### Import the processed dataset from zipped file"
   ]
  },
  {
   "cell_type": "code",
   "execution_count": null,
   "metadata": {},
   "outputs": [],
   "source": [
    "import gzip\n",
    "import pandas as pd\n",
    "import matplotlib.pyplot as plt\n",
    "import seaborn as sb\n",
    "\n",
    "with gzip.open(\"Preprocessed data.gz\") as f:\n",
    "    df = pd.read_csv(f)\n",
    "\n",
    "df.head()"
   ]
  },
  {
   "cell_type": "markdown",
   "metadata": {},
   "source": [
    "### Choose a country / zone to visualize"
   ]
  },
  {
   "cell_type": "code",
   "execution_count": null,
   "metadata": {},
   "outputs": [],
   "source": [
    "east_asia_code = ['EAP']\n",
    "east_asia_df = df[df['Country Code'].isin(east_asia_code)]\n",
    "east_asia_70s = pd.Series(east_asia_df.iloc[:,3:13].sum(), name='70s')\n",
    "east_asia_80s = pd.Series(east_asia_df.iloc[:,13:23].sum(), name='80s')\n",
    "east_asia_90s = pd.Series(east_asia_df.iloc[:,23:33].sum(), name='90s')\n",
    "east_asia_00s = pd.Series(east_asia_df.iloc[:,33:43].sum(), name='00s')\n",
    "east_asia_list = [east_asia_70s, east_asia_80s, east_asia_90s, east_asia_00s]\n",
    "for i in east_asia_list:\n",
    "    i.index = [f'year {index}' for index, _ in enumerate(i.index, 1)]\n",
    "east_asia_list = pd.DataFrame(east_asia_list)"
   ]
  },
  {
   "cell_type": "code",
   "execution_count": 32,
   "metadata": {},
   "outputs": [
    {
     "data": {
      "text/html": [
       "<div>\n",
       "<style scoped>\n",
       "    .dataframe tbody tr th:only-of-type {\n",
       "        vertical-align: middle;\n",
       "    }\n",
       "\n",
       "    .dataframe tbody tr th {\n",
       "        vertical-align: top;\n",
       "    }\n",
       "\n",
       "    .dataframe thead th {\n",
       "        text-align: right;\n",
       "    }\n",
       "</style>\n",
       "<table border=\"1\" class=\"dataframe\">\n",
       "  <thead>\n",
       "    <tr style=\"text-align: right;\">\n",
       "      <th></th>\n",
       "      <th>year 1</th>\n",
       "      <th>year 2</th>\n",
       "      <th>year 3</th>\n",
       "      <th>year 4</th>\n",
       "      <th>year 5</th>\n",
       "      <th>year 6</th>\n",
       "      <th>year 7</th>\n",
       "      <th>year 8</th>\n",
       "      <th>year 9</th>\n",
       "      <th>year 10</th>\n",
       "    </tr>\n",
       "  </thead>\n",
       "  <tbody>\n",
       "    <tr>\n",
       "      <th>70s</th>\n",
       "      <td>2.637681e+11</td>\n",
       "      <td>2.899691e+11</td>\n",
       "      <td>3.560289e+11</td>\n",
       "      <td>4.410141e+11</td>\n",
       "      <td>5.255539e+11</td>\n",
       "      <td>6.382245e+11</td>\n",
       "      <td>7.253573e+11</td>\n",
       "      <td>8.590037e+11</td>\n",
       "      <td>9.952323e+11</td>\n",
       "      <td>1.199068e+12</td>\n",
       "    </tr>\n",
       "    <tr>\n",
       "      <th>80s</th>\n",
       "      <td>1.467882e+12</td>\n",
       "      <td>1.611792e+12</td>\n",
       "      <td>1.781959e+12</td>\n",
       "      <td>1.936535e+12</td>\n",
       "      <td>1.972989e+12</td>\n",
       "      <td>2.305478e+12</td>\n",
       "      <td>2.623010e+12</td>\n",
       "      <td>3.122582e+12</td>\n",
       "      <td>3.433595e+12</td>\n",
       "      <td>3.934016e+12</td>\n",
       "    </tr>\n",
       "    <tr>\n",
       "      <th>90s</th>\n",
       "      <td>4.383246e+12</td>\n",
       "      <td>4.751469e+12</td>\n",
       "      <td>5.435464e+12</td>\n",
       "      <td>5.909773e+12</td>\n",
       "      <td>6.690792e+12</td>\n",
       "      <td>7.816529e+12</td>\n",
       "      <td>8.399342e+12</td>\n",
       "      <td>8.844566e+12</td>\n",
       "      <td>8.325667e+12</td>\n",
       "      <td>8.738693e+12</td>\n",
       "    </tr>\n",
       "    <tr>\n",
       "      <th>00s</th>\n",
       "      <td>8.451661e+12</td>\n",
       "      <td>8.463350e+12</td>\n",
       "      <td>8.745550e+12</td>\n",
       "      <td>9.987298e+12</td>\n",
       "      <td>1.141127e+13</td>\n",
       "      <td>1.295463e+13</td>\n",
       "      <td>1.478798e+13</td>\n",
       "      <td>1.753091e+13</td>\n",
       "      <td>2.002391e+13</td>\n",
       "      <td>2.167079e+13</td>\n",
       "    </tr>\n",
       "  </tbody>\n",
       "</table>\n",
       "</div>"
      ],
      "text/plain": [
       "           year 1        year 2        year 3        year 4        year 5  \\\n",
       "70s  2.637681e+11  2.899691e+11  3.560289e+11  4.410141e+11  5.255539e+11   \n",
       "80s  1.467882e+12  1.611792e+12  1.781959e+12  1.936535e+12  1.972989e+12   \n",
       "90s  4.383246e+12  4.751469e+12  5.435464e+12  5.909773e+12  6.690792e+12   \n",
       "00s  8.451661e+12  8.463350e+12  8.745550e+12  9.987298e+12  1.141127e+13   \n",
       "\n",
       "           year 6        year 7        year 8        year 9       year 10  \n",
       "70s  6.382245e+11  7.253573e+11  8.590037e+11  9.952323e+11  1.199068e+12  \n",
       "80s  2.305478e+12  2.623010e+12  3.122582e+12  3.433595e+12  3.934016e+12  \n",
       "90s  7.816529e+12  8.399342e+12  8.844566e+12  8.325667e+12  8.738693e+12  \n",
       "00s  1.295463e+13  1.478798e+13  1.753091e+13  2.002391e+13  2.167079e+13  "
      ]
     },
     "execution_count": 32,
     "metadata": {},
     "output_type": "execute_result"
    }
   ],
   "source": [
    "east_asia_list"
   ]
  },
  {
   "cell_type": "markdown",
   "metadata": {},
   "source": [
    "#### Put all in one graph"
   ]
  },
  {
   "cell_type": "code",
   "execution_count": 36,
   "metadata": {},
   "outputs": [
    {
     "data": {
      "text/plain": [
       "<AxesSubplot:>"
      ]
     },
     "execution_count": 36,
     "metadata": {},
     "output_type": "execute_result"
    },
    {
     "data": {
      "image/png": "[encoded data removed]",
      "text/plain": [
       "<Figure size 576x720 with 1 Axes>"
      ]
     },
     "metadata": {
      "needs_background": "light"
     },
     "output_type": "display_data"
    }
   ],
   "source": [
    "plt.figure(figsize=(8, 10))\n",
    "sb.lineplot(data=east_asia_list.transpose())"
   ]
  },
  {
   "cell_type": "code",
   "execution_count": 44,
   "metadata": {},
   "outputs": [
    {
     "data": {
      "text/plain": [
       "<AxesSubplot:>"
      ]
     },
     "execution_count": 44,
     "metadata": {},
     "output_type": "execute_result"
    },
    {
     "data": {
      "image/png": "[encoded data removed]",
      "text/plain": [
       "<Figure size 432x288 with 1 Axes>"
      ]
     },
     "metadata": {
      "needs_background": "light"
     },
     "output_type": "display_data"
    }
   ],
   "source": [
    "sb.barplot(data=east_asia_list.transpose())"
   ]
  },
  {
   "cell_type": "code",
   "execution_count": 3,
   "metadata": {},
   "outputs": [
    {
     "name": "stdout",
     "output_type": "stream",
     "text": [
      "Anual interest rate = 8.49%\n"
     ]
    }
   ],
   "source": [
    "present = 0.05\n",
    "future = 1.3\n",
    "t = 40\n",
    "print(f'Anual interest rate = {((future / present)**(1/t) - 1) * 100:.2f}%')"
   ]
  }
 ],
 "metadata": {
  "interpreter": {
   "hash": "2f8d4f4cc8fa12dbb26313d8b3e110534f25fd535deed971b5eaf97b1f1a75b3"
  },
  "kernelspec": {
   "display_name": "Python 3.9.7",
   "language": "python",
   "name": "python3"
  },
  "language_info": {
   "codemirror_mode": {
    "name": "ipython",
    "version": 3
   },
   "file_extension": ".py",
   "mimetype": "text/x-python",
   "name": "python",
   "nbconvert_exporter": "python",
   "pygments_lexer": "ipython3",
   "version": "3.9.12"
  },
  "orig_nbformat": 4
 },
 "nbformat": 4,
 "nbformat_minor": 2
}
