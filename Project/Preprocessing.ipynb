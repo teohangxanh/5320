{
 "cells": [
  {
   "cell_type": "markdown",
   "metadata": {},
   "source": [
    "### Data Preprocessing"
   ]
  },
  {
   "cell_type": "code",
   "execution_count": 40,
   "metadata": {},
   "outputs": [
    {
     "data": {
      "text/html": [
       "<div>\n",
       "<style scoped>\n",
       "    .dataframe tbody tr th:only-of-type {\n",
       "        vertical-align: middle;\n",
       "    }\n",
       "\n",
       "    .dataframe tbody tr th {\n",
       "        vertical-align: top;\n",
       "    }\n",
       "\n",
       "    .dataframe thead th {\n",
       "        text-align: right;\n",
       "    }\n",
       "</style>\n",
       "<table border=\"1\" class=\"dataframe\">\n",
       "  <thead>\n",
       "    <tr style=\"text-align: right;\">\n",
       "      <th></th>\n",
       "      <th>Country Name</th>\n",
       "      <th>Country Code</th>\n",
       "      <th>Series Code</th>\n",
       "      <th>1970</th>\n",
       "      <th>1971</th>\n",
       "      <th>1972</th>\n",
       "      <th>1973</th>\n",
       "      <th>1974</th>\n",
       "      <th>1975</th>\n",
       "      <th>1976</th>\n",
       "      <th>...</th>\n",
       "      <th>2011</th>\n",
       "      <th>2012</th>\n",
       "      <th>2013</th>\n",
       "      <th>2014</th>\n",
       "      <th>2015</th>\n",
       "      <th>2016</th>\n",
       "      <th>2017</th>\n",
       "      <th>2018</th>\n",
       "      <th>2019</th>\n",
       "      <th>2020</th>\n",
       "    </tr>\n",
       "  </thead>\n",
       "  <tbody>\n",
       "    <tr>\n",
       "      <th>0</th>\n",
       "      <td>Afghanistan</td>\n",
       "      <td>AFG</td>\n",
       "      <td>DT.GPA.DPPG</td>\n",
       "      <td>NaN</td>\n",
       "      <td>NaN</td>\n",
       "      <td>NaN</td>\n",
       "      <td>NaN</td>\n",
       "      <td>NaN</td>\n",
       "      <td>NaN</td>\n",
       "      <td>NaN</td>\n",
       "      <td>...</td>\n",
       "      <td>0.0</td>\n",
       "      <td>0.0</td>\n",
       "      <td>0.0</td>\n",
       "      <td>29.8333</td>\n",
       "      <td>0.0</td>\n",
       "      <td>0.0</td>\n",
       "      <td>19.8356</td>\n",
       "      <td>0.0</td>\n",
       "      <td>17.9041</td>\n",
       "      <td>0.0</td>\n",
       "    </tr>\n",
       "    <tr>\n",
       "      <th>1</th>\n",
       "      <td>Afghanistan</td>\n",
       "      <td>AFG</td>\n",
       "      <td>DT.GPA.OFFT</td>\n",
       "      <td>NaN</td>\n",
       "      <td>NaN</td>\n",
       "      <td>NaN</td>\n",
       "      <td>NaN</td>\n",
       "      <td>NaN</td>\n",
       "      <td>NaN</td>\n",
       "      <td>NaN</td>\n",
       "      <td>...</td>\n",
       "      <td>0.0</td>\n",
       "      <td>0.0</td>\n",
       "      <td>0.0</td>\n",
       "      <td>29.8333</td>\n",
       "      <td>0.0</td>\n",
       "      <td>0.0</td>\n",
       "      <td>19.8356</td>\n",
       "      <td>0.0</td>\n",
       "      <td>17.9041</td>\n",
       "      <td>0.0</td>\n",
       "    </tr>\n",
       "    <tr>\n",
       "      <th>2</th>\n",
       "      <td>Afghanistan</td>\n",
       "      <td>AFG</td>\n",
       "      <td>DT.GPA.PRVT</td>\n",
       "      <td>NaN</td>\n",
       "      <td>NaN</td>\n",
       "      <td>NaN</td>\n",
       "      <td>NaN</td>\n",
       "      <td>NaN</td>\n",
       "      <td>NaN</td>\n",
       "      <td>NaN</td>\n",
       "      <td>...</td>\n",
       "      <td>0.0</td>\n",
       "      <td>0.0</td>\n",
       "      <td>0.0</td>\n",
       "      <td>0.0000</td>\n",
       "      <td>0.0</td>\n",
       "      <td>0.0</td>\n",
       "      <td>0.0000</td>\n",
       "      <td>0.0</td>\n",
       "      <td>0.0000</td>\n",
       "      <td>0.0</td>\n",
       "    </tr>\n",
       "    <tr>\n",
       "      <th>3</th>\n",
       "      <td>Afghanistan</td>\n",
       "      <td>AFG</td>\n",
       "      <td>DT.GRE.DPPG</td>\n",
       "      <td>NaN</td>\n",
       "      <td>NaN</td>\n",
       "      <td>NaN</td>\n",
       "      <td>NaN</td>\n",
       "      <td>NaN</td>\n",
       "      <td>NaN</td>\n",
       "      <td>NaN</td>\n",
       "      <td>...</td>\n",
       "      <td>0.0</td>\n",
       "      <td>0.0</td>\n",
       "      <td>0.0</td>\n",
       "      <td>81.9289</td>\n",
       "      <td>0.0</td>\n",
       "      <td>0.0</td>\n",
       "      <td>64.2646</td>\n",
       "      <td>0.0</td>\n",
       "      <td>73.0790</td>\n",
       "      <td>0.0</td>\n",
       "    </tr>\n",
       "    <tr>\n",
       "      <th>4</th>\n",
       "      <td>Afghanistan</td>\n",
       "      <td>AFG</td>\n",
       "      <td>DT.GRE.OFFT</td>\n",
       "      <td>NaN</td>\n",
       "      <td>NaN</td>\n",
       "      <td>NaN</td>\n",
       "      <td>NaN</td>\n",
       "      <td>NaN</td>\n",
       "      <td>NaN</td>\n",
       "      <td>NaN</td>\n",
       "      <td>...</td>\n",
       "      <td>0.0</td>\n",
       "      <td>0.0</td>\n",
       "      <td>0.0</td>\n",
       "      <td>81.9289</td>\n",
       "      <td>0.0</td>\n",
       "      <td>0.0</td>\n",
       "      <td>64.2646</td>\n",
       "      <td>0.0</td>\n",
       "      <td>73.0790</td>\n",
       "      <td>0.0</td>\n",
       "    </tr>\n",
       "  </tbody>\n",
       "</table>\n",
       "<p>5 rows × 54 columns</p>\n",
       "</div>"
      ],
      "text/plain": [
       "  Country Name Country Code  Series Code  1970  1971  1972  1973  1974  1975  \\\n",
       "0  Afghanistan          AFG  DT.GPA.DPPG   NaN   NaN   NaN   NaN   NaN   NaN   \n",
       "1  Afghanistan          AFG  DT.GPA.OFFT   NaN   NaN   NaN   NaN   NaN   NaN   \n",
       "2  Afghanistan          AFG  DT.GPA.PRVT   NaN   NaN   NaN   NaN   NaN   NaN   \n",
       "3  Afghanistan          AFG  DT.GRE.DPPG   NaN   NaN   NaN   NaN   NaN   NaN   \n",
       "4  Afghanistan          AFG  DT.GRE.OFFT   NaN   NaN   NaN   NaN   NaN   NaN   \n",
       "\n",
       "   1976  ...  2011  2012  2013     2014  2015  2016     2017  2018     2019  \\\n",
       "0   NaN  ...   0.0   0.0   0.0  29.8333   0.0   0.0  19.8356   0.0  17.9041   \n",
       "1   NaN  ...   0.0   0.0   0.0  29.8333   0.0   0.0  19.8356   0.0  17.9041   \n",
       "2   NaN  ...   0.0   0.0   0.0   0.0000   0.0   0.0   0.0000   0.0   0.0000   \n",
       "3   NaN  ...   0.0   0.0   0.0  81.9289   0.0   0.0  64.2646   0.0  73.0790   \n",
       "4   NaN  ...   0.0   0.0   0.0  81.9289   0.0   0.0  64.2646   0.0  73.0790   \n",
       "\n",
       "   2020  \n",
       "0   0.0  \n",
       "1   0.0  \n",
       "2   0.0  \n",
       "3   0.0  \n",
       "4   0.0  \n",
       "\n",
       "[5 rows x 54 columns]"
      ]
     },
     "execution_count": 40,
     "metadata": {},
     "output_type": "execute_result"
    }
   ],
   "source": [
    "import pandas as pd\n",
    "\n",
    "df = pd.read_csv('IDS_ALLCountries_Data.csv')\n",
    "df.drop(inplace=True, columns=df.columns[-8:])\n",
    "df.drop(inplace=True, columns=['Counterpart-Area Name', 'Counterpart-Area Code', 'Series Name'])\n",
    "df.head()"
   ]
  },
  {
   "cell_type": "code",
   "execution_count": 41,
   "metadata": {},
   "outputs": [
    {
     "data": {
      "text/plain": [
       "(77389, 54)"
      ]
     },
     "execution_count": 41,
     "metadata": {},
     "output_type": "execute_result"
    }
   ],
   "source": [
    "# Data Dimension\n",
    "df.shape"
   ]
  },
  {
   "cell_type": "markdown",
   "metadata": {},
   "source": [
    "### Handle missing data"
   ]
  },
  {
   "cell_type": "code",
   "execution_count": 42,
   "metadata": {},
   "outputs": [],
   "source": [
    "# Filter cat and num columns\n",
    "num_cols = df._get_numeric_data().columns\n",
    "cat_cols = list(set(df.columns) - set(num_cols))"
   ]
  },
  {
   "cell_type": "markdown",
   "metadata": {},
   "source": [
    "##### Categorical"
   ]
  },
  {
   "cell_type": "code",
   "execution_count": 43,
   "metadata": {},
   "outputs": [
    {
     "data": {
      "text/plain": [
       "Country Name    3\n",
       "Country Code    5\n",
       "Series Code     5\n",
       "dtype: int64"
      ]
     },
     "execution_count": 43,
     "metadata": {},
     "output_type": "execute_result"
    }
   ],
   "source": [
    "# Before dropping categorical missing columns\n",
    "df[cat_cols].isnull().sum()"
   ]
  },
  {
   "cell_type": "code",
   "execution_count": 44,
   "metadata": {},
   "outputs": [
    {
     "data": {
      "text/plain": [
       "Country Name    0\n",
       "Country Code    0\n",
       "Series Code     0\n",
       "dtype: int64"
      ]
     },
     "execution_count": 44,
     "metadata": {},
     "output_type": "execute_result"
    }
   ],
   "source": [
    "# After dropping categorical missing columns\n",
    "df.dropna(\n",
    "    subset=cat_cols, inplace=True\n",
    ")\n",
    "df[cat_cols].isnull().sum()\n"
   ]
  },
  {
   "cell_type": "markdown",
   "metadata": {},
   "source": [
    "#### Numeric"
   ]
  },
  {
   "cell_type": "code",
   "execution_count": 45,
   "metadata": {},
   "outputs": [
    {
     "data": {
      "text/html": [
       "<div>\n",
       "<style scoped>\n",
       "    .dataframe tbody tr th:only-of-type {\n",
       "        vertical-align: middle;\n",
       "    }\n",
       "\n",
       "    .dataframe tbody tr th {\n",
       "        vertical-align: top;\n",
       "    }\n",
       "\n",
       "    .dataframe thead th {\n",
       "        text-align: right;\n",
       "    }\n",
       "</style>\n",
       "<table border=\"1\" class=\"dataframe\">\n",
       "  <thead>\n",
       "    <tr style=\"text-align: right;\">\n",
       "      <th></th>\n",
       "      <th>count</th>\n",
       "      <th>years</th>\n",
       "    </tr>\n",
       "    <tr>\n",
       "      <th>years</th>\n",
       "      <th></th>\n",
       "      <th></th>\n",
       "    </tr>\n",
       "  </thead>\n",
       "  <tbody>\n",
       "    <tr>\n",
       "      <th>1970</th>\n",
       "      <td>0.547801</td>\n",
       "      <td>1970</td>\n",
       "    </tr>\n",
       "    <tr>\n",
       "      <th>1971</th>\n",
       "      <td>0.536816</td>\n",
       "      <td>1971</td>\n",
       "    </tr>\n",
       "    <tr>\n",
       "      <th>1972</th>\n",
       "      <td>0.527344</td>\n",
       "      <td>1972</td>\n",
       "    </tr>\n",
       "    <tr>\n",
       "      <th>1973</th>\n",
       "      <td>0.517213</td>\n",
       "      <td>1973</td>\n",
       "    </tr>\n",
       "    <tr>\n",
       "      <th>1974</th>\n",
       "      <td>0.510067</td>\n",
       "      <td>1974</td>\n",
       "    </tr>\n",
       "  </tbody>\n",
       "</table>\n",
       "</div>"
      ],
      "text/plain": [
       "          count years\n",
       "years                \n",
       "1970   0.547801  1970\n",
       "1971   0.536816  1971\n",
       "1972   0.527344  1972\n",
       "1973   0.517213  1973\n",
       "1974   0.510067  1974"
      ]
     },
     "execution_count": 45,
     "metadata": {},
     "output_type": "execute_result"
    }
   ],
   "source": [
    "# Calculate missing value percentage\n",
    "missing = df[num_cols]\n",
    "missing = missing.isnull().sum() / len(df)\n",
    "\n",
    "# Convert to DataFrame class\n",
    "missing = missing.to_frame()\n",
    "missing.columns = ['count']\n",
    "missing.index.names = ['years']\n",
    "missing['years'] = missing.index\n",
    "missing.head()"
   ]
  },
  {
   "cell_type": "markdown",
   "metadata": {},
   "source": [
    "##### Visualization"
   ]
  },
  {
   "cell_type": "code",
   "execution_count": 46,
   "metadata": {},
   "outputs": [
    {
     "data": {
      "image/png": "[encoded data removed]",
      "text/plain": [
       "<Figure size 1200x960 with 1 Axes>"
      ]
     },
     "metadata": {},
     "output_type": "display_data"
    }
   ],
   "source": [
    "import seaborn as sns\n",
    "import matplotlib.pyplot as plt\n",
    "\n",
    "plt.figure(figsize=(15, 12), dpi=80)\n",
    "sns.set(style=\"whitegrid\", color_codes=True)\n",
    "sns.barplot(x = 'years', y = 'count', data=missing)\n",
    "plt.xticks(rotation = 90)\n",
    "# plt.show()\n",
    "plt.savefig('Missing.png')"
   ]
  },
  {
   "cell_type": "markdown",
   "metadata": {},
   "source": [
    "##### Imputation"
   ]
  },
  {
   "cell_type": "code",
   "execution_count": 47,
   "metadata": {},
   "outputs": [
    {
     "name": "stderr",
     "output_type": "stream",
     "text": [
      "C:\\Users\\dtngh\\miniconda3\\lib\\site-packages\\sklearn\\impute\\_iterative.py:699: ConvergenceWarning: [IterativeImputer] Early stopping criterion not reached.\n",
      "  warnings.warn(\n"
     ]
    }
   ],
   "source": [
    "# explicitly require this experimental feature\n",
    "from sklearn.experimental import enable_iterative_imputer  # noqa\n",
    "# now you can import normally from sklearn.impute\n",
    "from sklearn.impute import IterativeImputer\n",
    "\n",
    "imputer = IterativeImputer(random_state=1)\n",
    "df[num_cols] = imputer.fit_transform(df[num_cols])"
   ]
  },
  {
   "cell_type": "code",
   "execution_count": 49,
   "metadata": {},
   "outputs": [
    {
     "name": "stdout",
     "output_type": "stream",
     "text": [
      "<class 'pandas.core.frame.DataFrame'>\n",
      "Int64Index: 77384 entries, 0 to 77383\n",
      "Data columns (total 54 columns):\n",
      " #   Column        Non-Null Count  Dtype  \n",
      "---  ------        --------------  -----  \n",
      " 0   Country Name  77384 non-null  object \n",
      " 1   Country Code  77384 non-null  object \n",
      " 2   Series Code   77384 non-null  object \n",
      " 3   1970          77384 non-null  float64\n",
      " 4   1971          77384 non-null  float64\n",
      " 5   1972          77384 non-null  float64\n",
      " 6   1973          77384 non-null  float64\n",
      " 7   1974          77384 non-null  float64\n",
      " 8   1975          77384 non-null  float64\n",
      " 9   1976          77384 non-null  float64\n",
      " 10  1977          77384 non-null  float64\n",
      " 11  1978          77384 non-null  float64\n",
      " 12  1979          77384 non-null  float64\n",
      " 13  1980          77384 non-null  float64\n",
      " 14  1981          77384 non-null  float64\n",
      " 15  1982          77384 non-null  float64\n",
      " 16  1983          77384 non-null  float64\n",
      " 17  1984          77384 non-null  float64\n",
      " 18  1985          77384 non-null  float64\n",
      " 19  1986          77384 non-null  float64\n",
      " 20  1987          77384 non-null  float64\n",
      " 21  1988          77384 non-null  float64\n",
      " 22  1989          77384 non-null  float64\n",
      " 23  1990          77384 non-null  float64\n",
      " 24  1991          77384 non-null  float64\n",
      " 25  1992          77384 non-null  float64\n",
      " 26  1993          77384 non-null  float64\n",
      " 27  1994          77384 non-null  float64\n",
      " 28  1995          77384 non-null  float64\n",
      " 29  1996          77384 non-null  float64\n",
      " 30  1997          77384 non-null  float64\n",
      " 31  1998          77384 non-null  float64\n",
      " 32  1999          77384 non-null  float64\n",
      " 33  2000          77384 non-null  float64\n",
      " 34  2001          77384 non-null  float64\n",
      " 35  2002          77384 non-null  float64\n",
      " 36  2003          77384 non-null  float64\n",
      " 37  2004          77384 non-null  float64\n",
      " 38  2005          77384 non-null  float64\n",
      " 39  2006          77384 non-null  float64\n",
      " 40  2007          77384 non-null  float64\n",
      " 41  2008          77384 non-null  float64\n",
      " 42  2009          77384 non-null  float64\n",
      " 43  2010          77384 non-null  float64\n",
      " 44  2011          77384 non-null  float64\n",
      " 45  2012          77384 non-null  float64\n",
      " 46  2013          77384 non-null  float64\n",
      " 47  2014          77384 non-null  float64\n",
      " 48  2015          77384 non-null  float64\n",
      " 49  2016          77384 non-null  float64\n",
      " 50  2017          77384 non-null  float64\n",
      " 51  2018          77384 non-null  float64\n",
      " 52  2019          77384 non-null  float64\n",
      " 53  2020          77384 non-null  float64\n",
      "dtypes: float64(51), object(3)\n",
      "memory usage: 32.5+ MB\n"
     ]
    }
   ],
   "source": [
    "# Verify the dataset no longer has missing data\n",
    "df.info()"
   ]
  },
  {
   "cell_type": "code",
   "execution_count": 50,
   "metadata": {},
   "outputs": [],
   "source": [
    "# Save the preprocessed dataset\n",
    "df.to_csv('Preprocessed data.gz', compression='gzip', index=False)"
   ]
  }
 ],
 "metadata": {
  "interpreter": {
   "hash": "2f8d4f4cc8fa12dbb26313d8b3e110534f25fd535deed971b5eaf97b1f1a75b3"
  },
  "kernelspec": {
   "display_name": "Python 3.9.7",
   "language": "python",
   "name": "python3"
  },
  "language_info": {
   "codemirror_mode": {
    "name": "ipython",
    "version": 3
   },
   "file_extension": ".py",
   "mimetype": "text/x-python",
   "name": "python",
   "nbconvert_exporter": "python",
   "pygments_lexer": "ipython3",
   "version": "3.9.7"
  },
  "orig_nbformat": 4
 },
 "nbformat": 4,
 "nbformat_minor": 2
}
